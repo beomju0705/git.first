{
 "cells": [
  {
   "cell_type": "markdown",
   "id": "0fc4cbb2",
   "metadata": {},
   "source": [
    "### 1번문제"
   ]
  },
  {
   "cell_type": "code",
   "execution_count": 10,
   "id": "24ea9e21",
   "metadata": {},
   "outputs": [],
   "source": [
    "text = \"\"\"\n",
    "오늘 아침부터 저는 자바공부를 열심히 하고있습니다.\n",
    "자바는 재미있습니다.\n",
    "\"\"\""
   ]
  },
  {
   "cell_type": "code",
   "execution_count": 11,
   "id": "f81499b0",
   "metadata": {},
   "outputs": [],
   "source": [
    "text = text.replace(\"자바\",\"파이썬\")"
   ]
  },
  {
   "cell_type": "code",
   "execution_count": 12,
   "id": "27baa8a8",
   "metadata": {},
   "outputs": [
    {
     "name": "stdout",
     "output_type": "stream",
     "text": [
      "\n",
      "오늘 아침부터 저는 파이썬공부를 열심히 하고있습니다.\n",
      "파이썬는 재미있습니다.\n",
      "\n"
     ]
    }
   ],
   "source": [
    "print(text)"
   ]
  },
  {
   "cell_type": "markdown",
   "id": "1dba3906",
   "metadata": {},
   "source": [
    "### 2번문제"
   ]
  },
  {
   "cell_type": "code",
   "execution_count": 14,
   "id": "52d2342f",
   "metadata": {},
   "outputs": [
    {
     "name": "stdout",
     "output_type": "stream",
     "text": [
      "이름을 입력하세요이진범\n",
      "수학점수를 입력하세요80\n",
      "영어점수를 입력하세요40\n",
      "{'name': '이진범', 'math': 80, 'english': 40}\n"
     ]
    }
   ],
   "source": [
    "name = input(\"이름을 입력하세요\")\n",
    "math = int(input(\"수학점수를 입력하세요\"))\n",
    "english = int(input(\"영어점수를 입력하세요\"))\n",
    "\n",
    "score = {\n",
    "    'name': name,\n",
    "    'math': math,\n",
    "    'english': english\n",
    "}\n",
    "\n",
    "print(score)"
   ]
  },
  {
   "cell_type": "markdown",
   "id": "73e0e291",
   "metadata": {},
   "source": [
    "### 3번문제"
   ]
  },
  {
   "cell_type": "code",
   "execution_count": 17,
   "id": "9b35ce1d",
   "metadata": {},
   "outputs": [
    {
     "data": {
      "text/plain": [
       "{'name': '이진범', 'math': 80, 'english': 60}"
      ]
     },
     "execution_count": 17,
     "metadata": {},
     "output_type": "execute_result"
    }
   ],
   "source": [
    "x = {\"name\":\"이진범\", \"math\":40, \"english\":60}\n",
    "x['math'] = 80\n",
    "x"
   ]
  },
  {
   "cell_type": "markdown",
   "id": "0d499176",
   "metadata": {},
   "source": [
    "### 4번문제"
   ]
  },
  {
   "cell_type": "code",
   "execution_count": 23,
   "id": "c04f5343",
   "metadata": {},
   "outputs": [
    {
     "name": "stdout",
     "output_type": "stream",
     "text": [
      "입력해주세요:1\n",
      "입력해주세요:2\n",
      "입력해주세요:3\n",
      "입력해주세요:4\n",
      "입력해주세요:5\n",
      "합계: 15  평균: 3.0\n"
     ]
    }
   ],
   "source": [
    "number_cnt = 0\n",
    "number_sum = 0\n",
    "\n",
    "for i in range(5):\n",
    "    x = int(input(\"입력해주세요:\"))\n",
    "    number_cnt += 1\n",
    "    number_sum += x\n",
    "    \n",
    "print('합계:',number_sum,' 평균:',number_sum/number_cnt)"
   ]
  },
  {
   "cell_type": "markdown",
   "id": "5142ddc8",
   "metadata": {},
   "source": [
    "### 5번문제"
   ]
  },
  {
   "cell_type": "code",
   "execution_count": 27,
   "id": "5e61a251",
   "metadata": {},
   "outputs": [
    {
     "name": "stdout",
     "output_type": "stream",
     "text": [
      "값을 입력해주세요1\n",
      "값을 입력해주세요2\n",
      "값을 입력해주세요3\n",
      "값을 입력해주세요4\n",
      "값을 입력해주세요5\n",
      "['1', '2', '3', '4', '5']\n"
     ]
    }
   ],
   "source": [
    "number = []\n",
    "\n",
    "for i in range(5):\n",
    "    x = input(\"값을 입력해주세요\")\n",
    "    number.append(x)\n",
    "print(number)"
   ]
  },
  {
   "cell_type": "markdown",
   "id": "42771bb6",
   "metadata": {},
   "source": [
    "### 6번문제"
   ]
  },
  {
   "cell_type": "code",
   "execution_count": 33,
   "id": "84ac0f81",
   "metadata": {},
   "outputs": [
    {
     "name": "stdout",
     "output_type": "stream",
     "text": [
      "2\n",
      "5\n",
      "7입니다.\n",
      "5\n",
      "8\n",
      "3입니다\n",
      "6\n",
      "7입니다.\n",
      "3입니다\n",
      "3입니다\n",
      "7입니다.\n",
      "8\n",
      "9\n",
      "10\n",
      "2\n"
     ]
    }
   ],
   "source": [
    "x = [2, 5, 7, 5, 8, 3, 6, 7, 3, 3, 7, 8, 9, 10, 2]\n",
    "\n",
    "for value in x:\n",
    "    #print(value)\n",
    "    if value == 3:\n",
    "        print('3입니다')\n",
    "    elif value == 7:\n",
    "        print('7입니다.')\n",
    "    else:\n",
    "        print(value)"
   ]
  },
  {
   "cell_type": "markdown",
   "id": "af6dfcc1",
   "metadata": {},
   "source": [
    "### 7번문제"
   ]
  },
  {
   "cell_type": "code",
   "execution_count": 46,
   "id": "577169d0",
   "metadata": {},
   "outputs": [
    {
     "data": {
      "text/plain": [
       "[2, 5, 0, 5, 8, 0, 4, 5, 0]"
      ]
     },
     "execution_count": 46,
     "metadata": {},
     "output_type": "execute_result"
    }
   ],
   "source": [
    "x = [2, 5, 7, 5, 8, 3, 4, 5, 7]\n",
    "\n",
    "for idx in range(len(x)):\n",
    "    \n",
    "#     if x[idx] == 3:        \n",
    "#         x[idx] = 0\n",
    "#     elif x[idx] == 7:\n",
    "#         x[idx] = 0\n",
    "\n",
    "    if x[idx] == 3 or x[idx] == 7:\n",
    "        x[idx] = 0        \n",
    "        \n",
    "    \n",
    "x"
   ]
  },
  {
   "cell_type": "markdown",
   "id": "15c16141",
   "metadata": {},
   "source": [
    "### 8번문제"
   ]
  },
  {
   "cell_type": "code",
   "execution_count": 49,
   "id": "87a69fe0",
   "metadata": {},
   "outputs": [
    {
     "name": "stdout",
     "output_type": "stream",
     "text": [
      "숫자를 입력해주세요9\n",
      "10보다작다\n"
     ]
    }
   ],
   "source": [
    "x = int(input(\"숫자를 입력해주세요\"))\n",
    "\n",
    "if x > 10:\n",
    "    print(\"10보다크다\")\n",
    "elif x < 10:\n",
    "    print(\"10보다작다\")"
   ]
  },
  {
   "cell_type": "markdown",
   "id": "2fc8dc9d",
   "metadata": {},
   "source": [
    "### 9번,10번문제"
   ]
  },
  {
   "cell_type": "code",
   "execution_count": 55,
   "id": "5f88692e",
   "metadata": {},
   "outputs": [
    {
     "name": "stdout",
     "output_type": "stream",
     "text": [
      "점수를입력해주세요90\n",
      "점수를입력해주세요40\n",
      "점수를입력해주세요30\n",
      "합격\n"
     ]
    }
   ],
   "source": [
    "x = int(input(\"점수를입력해주세요\"))\n",
    "y = int(input(\"점수를입력해주세요\"))\n",
    "z = int(input(\"점수를입력해주세요\"))\n",
    "\n",
    "avg = (x + y + z) / 3\n",
    "\n",
    "if x < 30 or y < 30 or z < 30:\n",
    "    print(\"불합격\")\n",
    "elif avg > 50:\n",
    "    print(\"합격\")\n",
    "else:\n",
    "    print(\"불합격\")"
   ]
  },
  {
   "cell_type": "markdown",
   "id": "6d403d74",
   "metadata": {},
   "source": [
    "### 11번문제"
   ]
  },
  {
   "cell_type": "code",
   "execution_count": 60,
   "id": "6df2c97d",
   "metadata": {},
   "outputs": [
    {
     "name": "stdout",
     "output_type": "stream",
     "text": [
      "값을입력해주세요1\n",
      "값을입력해주세요2\n",
      "값을입력해주세요78\n",
      "값을입력해주세요6\n",
      "값을입력해주세요4\n",
      "값을입력해주세요6\n",
      "값을입력해주세요8\n",
      "값을입력해주세요3\n",
      "값을입력해주세요0\n",
      "값을입력해주세요5\n"
     ]
    },
    {
     "data": {
      "text/plain": [
       "['홀수', '짝수', '짝수', '짝수', '짝수', '짝수', '짝수', '홀수', 0, '홀수']"
      ]
     },
     "execution_count": 60,
     "metadata": {},
     "output_type": "execute_result"
    }
   ],
   "source": [
    "number_list = []\n",
    "\n",
    "for i in range(10):\n",
    "    x = int(input('값을입력해주세요'))\n",
    "    \n",
    "    if x == 0:\n",
    "        number_list.append(x)\n",
    "    elif x % 2 == 0:\n",
    "        number_list.append('짝수')\n",
    "    else:\n",
    "        number_list.append('홀수')\n",
    "        \n",
    "number_list"
   ]
  },
  {
   "cell_type": "markdown",
   "id": "5224fbbb",
   "metadata": {},
   "source": [
    "### 12번문제"
   ]
  },
  {
   "cell_type": "code",
   "execution_count": 64,
   "id": "1ef9ab5a",
   "metadata": {},
   "outputs": [
    {
     "name": "stdout",
     "output_type": "stream",
     "text": [
      "이름을입력해주세요이진범\n",
      "성별을입력해주세요남\n",
      "나이를입려해주세요80\n",
      "이름을입력해주세요홍길동\n",
      "성별을입력해주세요남\n",
      "나이를입려해주세요40\n",
      "이름을입력해주세요이몽룡\n",
      "성별을입력해주세요남\n",
      "나이를입려해주세요80\n"
     ]
    },
    {
     "data": {
      "text/plain": [
       "[{'name': '이진범', 'gender': '남', 'age': '80'},\n",
       " {'name': '홍길동', 'gender': '남', 'age': '40'},\n",
       " {'name': '이몽룡', 'gender': '남', 'age': '80'}]"
      ]
     },
     "execution_count": 64,
     "metadata": {},
     "output_type": "execute_result"
    }
   ],
   "source": [
    "students = []\n",
    "\n",
    "for i in range(3):\n",
    "    name = input(\"이름을입력해주세요\")\n",
    "    gender = input(\"성별을입력해주세요\")\n",
    "    age = input(\"나이를입려해주세요\")\n",
    "\n",
    "    student = {\n",
    "        'name':name,\n",
    "        'gender':gender,\n",
    "        'age':age\n",
    "    }\n",
    "    \n",
    "    students.append(student)\n",
    "\n",
    "students"
   ]
  }
 ],
 "metadata": {
  "kernelspec": {
   "display_name": "Python 3 (ipykernel)",
   "language": "python",
   "name": "python3"
  },
  "language_info": {
   "codemirror_mode": {
    "name": "ipython",
    "version": 3
   },
   "file_extension": ".py",
   "mimetype": "text/x-python",
   "name": "python",
   "nbconvert_exporter": "python",
   "pygments_lexer": "ipython3",
   "version": "3.10.12"
  }
 },
 "nbformat": 4,
 "nbformat_minor": 5
}
